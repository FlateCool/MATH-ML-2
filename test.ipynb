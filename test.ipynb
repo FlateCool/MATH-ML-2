{
  "cells": [
    {
      "cell_type": "code",
      "execution_count": 1,
      "metadata": {},
      "outputs": [],
      "source": [
        "# импортируем необходимые пакеты\n",
        "\n",
        "import pandas as pd\n",
        "import scipy\n",
        "import numpy as np\n",
        "from sklearn import datasets\n",
        "import seaborn as sns\n",
        "import matplotlib.pyplot as plt\n"
      ]
    },
    {
      "cell_type": "code",
      "execution_count": 5,
      "metadata": {},
      "outputs": [
        {
          "data": {
            "text/plain": [
              "array([[ 1.00314102, -0.03032538,  0.48640782],\n",
              "       [-0.03032538,  0.91785269,  0.44376365],\n",
              "       [ 0.48640782,  0.44376365,  0.46508574]])"
            ]
          },
          "metadata": {},
          "output_type": "display_data"
        },
        {
          "name": "stdout",
          "output_type": "stream",
          "text": [
            "[ 1.4  1.  -0. ]\n"
          ]
        }
      ],
      "source": [
        "SIZE = 1000\n",
        "np.random.seed(123)\n",
        "x = np.random.normal(size=SIZE)\n",
        "y = np.random.normal(size=SIZE)\n",
        "z = (x+y) /2\n",
        "\n",
        "F = np.vstack([x,y,z])\n",
        "FF = 1/SIZE * F@ F.T\n",
        "display(FF)\n",
        "L, W = np.linalg.eig(FF)\n",
        "WW = sorted(zip(L, W.T), key=lambda lx: lx[0], reverse=True)\n",
        "WW = np.array([w[1] for w in WW])\n",
        "print(np.round(sorted(L, reverse=True), 1))"
      ]
    }
  ],
  "metadata": {
    "kernelspec": {
      "display_name": "Python 3",
      "language": "python",
      "name": "python3"
    },
    "language_info": {
      "codemirror_mode": {
        "name": "ipython",
        "version": 3
      },
      "file_extension": ".py",
      "mimetype": "text/x-python",
      "name": "python",
      "nbconvert_exporter": "python",
      "pygments_lexer": "ipython3",
      "version": "3.10.12"
    },
    "nteract": {
      "version": "0.28.0"
    }
  },
  "nbformat": 4,
  "nbformat_minor": 2
}
