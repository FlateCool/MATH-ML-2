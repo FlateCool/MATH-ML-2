{
  "cells": [
    {
      "cell_type": "code",
      "execution_count": 1,
      "metadata": {},
      "outputs": [],
      "source": [
        "# импортируем необходимые пакеты\n",
        "\n",
        "import pandas as pd\n",
        "import scipy\n",
        "import numpy as np\n"
      ]
    },
    {
      "cell_type": "code",
      "execution_count": 5,
      "metadata": {},
      "outputs": [
        {
          "name": "stdout",
          "output_type": "stream",
          "text": [
            "rank(A)=2\n",
            "rank(B)=2\n",
            "[[0.]\n",
            " [1.]]\n"
          ]
        }
      ],
      "source": [
        "A = np.matrix(\"1, 1; 1, 2\");\n",
        "B = np.matrix(\"1, 1, 1; 1, 2, 2\")\n",
        "print('rank(A)={}'.format(np.linalg.matrix_rank(A)))\n",
        "print('rank(B)={}'.format(np.linalg.matrix_rank(B)))\n",
        "b = np.array([1, 2])\n",
        "b = np.reshape(b, (2, 1))\n",
        "print(np.linalg.inv(A)@b)"
      ]
    },
    {
      "cell_type": "code",
      "execution_count": 8,
      "metadata": {},
      "outputs": [
        {
          "name": "stdout",
          "output_type": "stream",
          "text": [
            "rank(A)=2\n",
            "rank(Ab)=2\n"
          ]
        },
        {
          "data": {
            "text/plain": [
              "matrix([[-2.],\n",
              "        [ 4.]])"
            ]
          },
          "execution_count": 8,
          "metadata": {},
          "output_type": "execute_result"
        }
      ],
      "source": [
        "# task 2.4\n",
        "A = np.matrix(\"4, 7; 5, 10\")\n",
        "Ab = np.matrix(\"4, 7, 20; 5, 10, 30\")\n",
        "b = np.array([20, 30])\n",
        "b = np.reshape(b, (2,1))\n",
        "print('rank(A)={}'.format(np.linalg.matrix_rank(A)))\n",
        "print('rank(Ab)={}'.format(np.linalg.matrix_rank(Ab)))\n",
        "np.linalg.inv(A)@b"
      ]
    },
    {
      "cell_type": "code",
      "execution_count": 16,
      "metadata": {},
      "outputs": [
        {
          "name": "stdout",
          "output_type": "stream",
          "text": [
            "rank(A)=2\n",
            "rank(Ab)=2\n"
          ]
        }
      ],
      "source": [
        "# task 2.6\n",
        "A = np.matrix(\"4, 7, -1; -4, 2, 5; 0, 9, 4\")\n",
        "Ab = np.matrix(\"4, 7, -1, 7; -4, 2, 5, 3; 0, 9, 4, 10\")\n",
        "print('rank(A)={}'.format(np.linalg.matrix_rank(A)))\n",
        "print('rank(Ab)={}'.format(np.linalg.matrix_rank(Ab)))\n"
      ]
    },
    {
      "cell_type": "code",
      "execution_count": 18,
      "metadata": {},
      "outputs": [
        {
          "data": {
            "text/plain": [
              "matrix([[ 5],\n",
              "        [-1],\n",
              "        [ 0]])"
            ]
          },
          "execution_count": 18,
          "metadata": {},
          "output_type": "execute_result"
        }
      ],
      "source": [
        "# task 2.9\n",
        "A = np.matrix(\"1, -5; 2, 1; 1, 1\")\n",
        "b = np.array([1, 2, 2])\n",
        "b = np.reshape(b, (3, 1))\n",
        "wp = np.array([1, 1])\n",
        "wp = np.reshape(wp, (2,1))\n",
        "bp = A@wp\n",
        "e = b - bp\n",
        "e"
      ]
    },
    {
      "cell_type": "code",
      "execution_count": 28,
      "metadata": {},
      "outputs": [
        {
          "name": "stdout",
          "output_type": "stream",
          "text": [
            "G:  [[12  0]\n",
            " [ 0 10]]\n",
            "bp : [[-0.5]\n",
            " [ 1.6]]\n"
          ]
        }
      ],
      "source": [
        "# task 2.11\n",
        "\n",
        "A = np.matrix(\"1, 2; -3, 1; 1, 2; 1, -1\")\n",
        "G = A.T@A\n",
        "b = np.array([1, 4, 5, 0])\n",
        "b = np.reshape(b, (4,1))\n",
        "print('G: ', G)\n",
        "print('bp :', np.linalg.inv(G)@A.T@b)"
      ]
    },
    {
      "cell_type": "code",
      "execution_count": 26,
      "metadata": {},
      "outputs": [
        {
          "data": {
            "text/plain": [
              "matrix([[0.08333333, 0.        ],\n",
              "        [0.        , 0.1       ]])"
            ]
          },
          "execution_count": 26,
          "metadata": {},
          "output_type": "execute_result"
        }
      ],
      "source": [
        "np.linalg.inv(G)"
      ]
    },
    {
      "cell_type": "code",
      "execution_count": 27,
      "metadata": {},
      "outputs": [
        {
          "data": {
            "text/plain": [
              "matrix([[-6],\n",
              "        [16]])"
            ]
          },
          "execution_count": 27,
          "metadata": {},
          "output_type": "execute_result"
        }
      ],
      "source": [
        "A.T@b"
      ]
    }
  ],
  "metadata": {
    "kernelspec": {
      "display_name": "Python 3",
      "language": "python",
      "name": "python3"
    },
    "language_info": {
      "codemirror_mode": {
        "name": "ipython",
        "version": 3
      },
      "file_extension": ".py",
      "mimetype": "text/x-python",
      "name": "python",
      "nbconvert_exporter": "python",
      "pygments_lexer": "ipython3",
      "version": "3.10.12"
    },
    "nteract": {
      "version": "0.28.0"
    }
  },
  "nbformat": 4,
  "nbformat_minor": 2
}
