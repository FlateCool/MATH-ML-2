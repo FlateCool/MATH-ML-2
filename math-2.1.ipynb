{
  "cells": [
    {
      "cell_type": "code",
      "execution_count": 1,
      "metadata": {},
      "outputs": [],
      "source": [
        "# импортируем необходимые пакеты\n",
        "\n",
        "import pandas as pd\n",
        "import scipy\n",
        "import numpy as np\n"
      ]
    },
    {
      "cell_type": "code",
      "execution_count": 2,
      "metadata": {},
      "outputs": [
        {
          "data": {
            "text/plain": [
              "-9"
            ]
          },
          "execution_count": 2,
          "metadata": {},
          "output_type": "execute_result"
        }
      ],
      "source": [
        "# task 1.1\n",
        "v1 = np.array([-1, 2, -7, 9])\n",
        "v2 = np.array([2, 8, 2, -1])\n",
        "v1 @ v2"
      ]
    },
    {
      "cell_type": "code",
      "execution_count": 4,
      "metadata": {},
      "outputs": [
        {
          "data": {
            "text/plain": [
              "matrix([[2, 3],\n",
              "        [3, 5]])"
            ]
          },
          "execution_count": 4,
          "metadata": {},
          "output_type": "execute_result"
        }
      ],
      "source": [
        "# task 1.4\n",
        "A = np.matrix(\"1, 1; 1, 2\")\n",
        "G = A.T @ A\n",
        "G"
      ]
    },
    {
      "cell_type": "code",
      "execution_count": 5,
      "metadata": {},
      "outputs": [
        {
          "data": {
            "text/plain": [
              "matrix([[ 7., -2.],\n",
              "        [-3.,  1.]])"
            ]
          },
          "execution_count": 5,
          "metadata": {},
          "output_type": "execute_result"
        }
      ],
      "source": [
        "# task 1.6\n",
        "A = np.matrix(\"1, 2; 3, 7\")\n",
        "np.linalg.inv(A)"
      ]
    },
    {
      "cell_type": "code",
      "execution_count": 6,
      "metadata": {},
      "outputs": [
        {
          "data": {
            "text/plain": [
              "2"
            ]
          },
          "execution_count": 6,
          "metadata": {},
          "output_type": "execute_result"
        }
      ],
      "source": [
        "# task 1.7\n",
        "v1 = np.array([2, 10, -2])\n",
        "v2 = np.array([3, 2, -2])\n",
        "v3 = np.array([8, 14, -6])\n",
        "A = np.array([v1, v2, v3]).T\n",
        "np.linalg.matrix_rank(A)"
      ]
    },
    {
      "cell_type": "code",
      "execution_count": 7,
      "metadata": {},
      "outputs": [
        {
          "data": {
            "text/plain": [
              "2"
            ]
          },
          "execution_count": 7,
          "metadata": {},
          "output_type": "execute_result"
        }
      ],
      "source": [
        "# task 1.8\n",
        "v1 = np.array([2, 10, -2])\n",
        "v2 = np.array([3, 2, -2])\n",
        "v3 = np.array([8, 14, -6])\n",
        "A = np.array([v1, v2, v3])\n",
        "np.linalg.matrix_rank(A)"
      ]
    },
    {
      "cell_type": "code",
      "execution_count": 8,
      "metadata": {},
      "outputs": [
        {
          "data": {
            "text/plain": [
              "1"
            ]
          },
          "execution_count": 8,
          "metadata": {},
          "output_type": "execute_result"
        }
      ],
      "source": [
        "# task 1.9\n",
        "A = np.matrix(\"5, 1; 10, 2\")\n",
        "np.linalg.matrix_rank(A)"
      ]
    },
    {
      "cell_type": "code",
      "execution_count": null,
      "metadata": {},
      "outputs": [],
      "source": [
        "# task 1.10\n",
        "A = np.matrix(\"5, 1, 3; 0, 2, 8; 10, 0, 2\")\n",
        "display(A) "
      ]
    }
  ],
  "metadata": {
    "kernelspec": {
      "display_name": "Python 3",
      "language": "python",
      "name": "python3"
    },
    "language_info": {
      "codemirror_mode": {
        "name": "ipython",
        "version": 3
      },
      "file_extension": ".py",
      "mimetype": "text/x-python",
      "name": "python",
      "nbconvert_exporter": "python",
      "pygments_lexer": "ipython3",
      "version": "3.10.12"
    },
    "nteract": {
      "version": "0.28.0"
    }
  },
  "nbformat": 4,
  "nbformat_minor": 2
}
